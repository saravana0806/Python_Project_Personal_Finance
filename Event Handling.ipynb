{
 "cells": [
  {
   "cell_type": "markdown",
   "id": "6e51f354-06be-41f4-b3cd-977c5a92f68e",
   "metadata": {},
   "source": [
    "##Event Handling in Tkinter"
   ]
  },
  {
   "cell_type": "code",
   "execution_count": null,
   "id": "1f0f808c-0c9b-4def-b1e4-f7d1303656bf",
   "metadata": {},
   "outputs": [],
   "source": [
    "# Button Click Event"
   ]
  },
  {
   "cell_type": "code",
   "execution_count": 6,
   "id": "89abfba2-f2fd-4339-b647-1d6c70c8e479",
   "metadata": {},
   "outputs": [],
   "source": [
    "import tkinter as tk\n",
    "\n",
    "def on_button_click():\n",
    "    label.config(text=\"Button Clicked!\", font=(\"Helvetica\", 16), fg=\"blue\")\n",
    "\n",
    "root = tk.Tk()\n",
    "root.title(\"Button Click Event Example\")\n",
    "\n",
    "button = tk.Button(root, text=\"Click Me!\", command=on_button_click, font=(\"Helvetica\", 14), bg=\"lightgray\")\n",
    "button.pack(pady=20)\n",
    "\n",
    "label = tk.Label(root, text=\"Welcome to Tkinter Events!\", font=(\"Helvetica\", 18), fg=\"green\")\n",
    "label.pack()\n",
    "\n",
    "root.geometry(\"400x200\")\n",
    "root.mainloop()\n"
   ]
  },
  {
   "cell_type": "code",
   "execution_count": 8,
   "id": "47a0ae1b-8607-4cc6-8207-c72647861f26",
   "metadata": {},
   "outputs": [],
   "source": [
    "# Key Press Events"
   ]
  },
  {
   "cell_type": "code",
   "execution_count": 10,
   "id": "b6ac324d-6e93-4b5c-8c01-6b9b0241e93c",
   "metadata": {},
   "outputs": [],
   "source": [
    "import tkinter as tk\n",
    "\n",
    "def on_key_press(event):\n",
    "    label.config(text=f\"Key Pressed: {event.char}\", font=(\"Helvetica\", 16), fg=\"red\")\n",
    "\n",
    "root = tk.Tk()\n",
    "root.title(\"Key Press Event Example\")\n",
    "\n",
    "label = tk.Label(root, text=\"Press a key!\", font=(\"Helvetica\", 18), fg=\"purple\")\n",
    "label.pack(pady=20)\n",
    "\n",
    "root.bind(\"<Key>\", on_key_press)\n",
    "\n",
    "root.geometry(\"400x200\")\n",
    "root.mainloop()\n"
   ]
  },
  {
   "cell_type": "code",
   "execution_count": 11,
   "id": "3d8c0f97-5a72-443a-8eda-a2e92793ee87",
   "metadata": {},
   "outputs": [],
   "source": [
    "# Mouse Click Events"
   ]
  },
  {
   "cell_type": "code",
   "execution_count": 12,
   "id": "be695a52-7004-4c1f-9cd1-a4dbd801a149",
   "metadata": {},
   "outputs": [],
   "source": [
    "import tkinter as tk\n",
    "\n",
    "def on_mouse_click(event):\n",
    "    label.config(text=f\"Mouse Clicked at ({event.x}, {event.y})\", font=(\"Helvetica\", 16), fg=\"orange\")\n",
    "\n",
    "root = tk.Tk()\n",
    "root.title(\"Mouse Click Event Example\")\n",
    "\n",
    "label = tk.Label(root, text=\"Click anywhere in the window!\", font=(\"Helvetica\", 18), fg=\"brown\")\n",
    "label.pack(pady=20)\n",
    "\n",
    "root.bind(\"<Button-1>\", on_mouse_click)  # <Button-1> corresponds to the left mouse button\n",
    "\n",
    "root.geometry(\"400x200\")\n",
    "root.mainloop()\n"
   ]
  },
  {
   "cell_type": "code",
   "execution_count": 15,
   "id": "98fc7ce9-8e9e-4ee2-8406-9299fd22da62",
   "metadata": {},
   "outputs": [],
   "source": [
    "# Activity plus Events"
   ]
  },
  {
   "cell_type": "code",
   "execution_count": 18,
   "id": "345b5d88-8255-453c-9b39-f5d390c4a942",
   "metadata": {},
   "outputs": [],
   "source": [
    "import tkinter as tk\n",
    "import random\n",
    "\n",
    "def change_color():\n",
    "    random_color = \"#{:06x}\".format(random.randint(0, 0xFFFFFF))\n",
    "    canvas.itemconfig(rectangle, fill=random_color)\n",
    "\n",
    "root = tk.Tk()\n",
    "root.title(\"Mouse Click Activity Example\")\n",
    "\n",
    "canvas = tk.Canvas(root, width=200, height=100, bg=\"white\")\n",
    "rectangle = canvas.create_rectangle(50, 25, 150, 75, fill=\"blue\")\n",
    "canvas.pack(pady=20)\n",
    "\n",
    "button = tk.Button(root, text=\"Change Color\", command=change_color, font=(\"Helvetica\", 14), bg=\"lightgray\")\n",
    "button.pack()\n",
    "\n",
    "root.geometry(\"300x200\")\n",
    "root.mainloop()\n"
   ]
  },
  {
   "cell_type": "code",
   "execution_count": 19,
   "id": "8b467741-fd66-4da1-9d08-be33fcfdb597",
   "metadata": {},
   "outputs": [],
   "source": [
    "# Bind Functions"
   ]
  },
  {
   "cell_type": "code",
   "execution_count": 28,
   "id": "5153b4fb-a503-40e6-b12f-91d4e731d7e2",
   "metadata": {},
   "outputs": [
    {
     "data": {
      "text/plain": [
       "\" Key Events:\\n\\n<KeyPress>: Any key is pressed.\\n<KeyPress-a>: The 'a' key is pressed.\\nMouse Events:\\n\\n<Button-1>: Left mouse button is clicked.\\n<Button-2>: Middle mouse button is clicked.\\n<Button-3>: Right mouse button is clicked.\\n<B1-Motion>: Left mouse button is moved.\\nMouse Wheel Events:\\n\\n<MouseWheel>: Mouse wheel is rotated.\\n<MouseWheel-UP>: Mouse wheel is rotated upward.\\n<MouseWheel-DOWN>: Mouse wheel is rotated downward.\""
      ]
     },
     "execution_count": 28,
     "metadata": {},
     "output_type": "execute_result"
    }
   ],
   "source": [
    "import tkinter as tk\n",
    "\n",
    "def on_enter_key_press(event):\n",
    "    label.config(text=\"Enter Key Pressed!\", fg=\"green\")\n",
    "\n",
    "root = tk.Tk()\n",
    "root.title(\"bind() Example with Enter Key\")\n",
    "\n",
    "label = tk.Label(root, text=\"Press Enter key!\", font=(\"Helvetica\", 14), fg=\"black\")\n",
    "label.pack(pady=20)\n",
    "\n",
    "root.bind(\"<Return>\", on_enter_key_press)   #\"<Return>\" is the identifier for the Enter key\n",
    "\n",
    "root.geometry(\"300x200\")\n",
    "root.mainloop()\n",
    "\n",
    "\n",
    "''' Key Events:\n",
    "<KeyPress>: Any key is pressed.\n",
    "<KeyPress-a>: The 'a' key is pressed.\n",
    "Mouse Events:\n",
    "\n",
    "<Button-1>: Left mouse button is clicked.\n",
    "<Button-2>: Middle mouse button is clicked.\n",
    "<Button-3>: Right mouse button is clicked.\n",
    "<B1-Motion>: Left mouse button is moved.\n",
    "Mouse Wheel Events:\n",
    "\n",
    "<MouseWheel>: Mouse wheel is rotated.\n",
    "<MouseWheel-UP>: Mouse wheel is rotated upward.\n",
    "<MouseWheel-DOWN>: Mouse wheel is rotated downward.'''"
   ]
  },
  {
   "cell_type": "code",
   "execution_count": 29,
   "id": "29a8c682-ede7-4967-8d2a-5557028de031",
   "metadata": {},
   "outputs": [],
   "source": [
    "# Mouse Hover"
   ]
  },
  {
   "cell_type": "code",
   "execution_count": 30,
   "id": "a83ef3f1-b267-41fe-b230-e386ecefd814",
   "metadata": {},
   "outputs": [],
   "source": [
    "import tkinter as tk\n",
    "\n",
    "def on_mouse_enter(event):\n",
    "    label.config(fg=\"blue\")\n",
    "\n",
    "def on_mouse_leave(event):\n",
    "    label.config(fg=\"black\")\n",
    "\n",
    "root = tk.Tk()\n",
    "root.title(\"Mouse Hover Example\")\n",
    "\n",
    "label = tk.Label(root, text=\"Hover over me!\", font=(\"Helvetica\", 16), fg=\"black\")\n",
    "label.pack(pady=20)\n",
    "\n",
    "label.bind(\"<Enter>\", on_mouse_enter)\n",
    "label.bind(\"<Leave>\", on_mouse_leave)\n",
    "\n",
    "root.geometry(\"300x200\")\n",
    "root.mainloop()"
   ]
  }
 ],
 "metadata": {
  "kernelspec": {
   "display_name": "Python 3 (ipykernel)",
   "language": "python",
   "name": "python3"
  },
  "language_info": {
   "codemirror_mode": {
    "name": "ipython",
    "version": 3
   },
   "file_extension": ".py",
   "mimetype": "text/x-python",
   "name": "python",
   "nbconvert_exporter": "python",
   "pygments_lexer": "ipython3",
   "version": "3.11.5"
  }
 },
 "nbformat": 4,
 "nbformat_minor": 5
}
